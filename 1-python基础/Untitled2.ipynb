{
 "cells": [
  {
   "cell_type": "code",
   "execution_count": 6,
   "metadata": {},
   "outputs": [
    {
     "name": "stdout",
     "output_type": "stream",
     "text": [
      "1\n",
      "xxx\n",
      "2\n",
      "xxx\n",
      "3\n",
      "xxx\n",
      "4\n",
      "xxx\n",
      "5\n",
      "xxx\n",
      "6\n",
      "xxx\n",
      "7\n",
      "xxx\n",
      "8\n",
      "xxx\n",
      "9\n",
      "xxx\n",
      "10\n",
      "xxx\n"
     ]
    }
   ],
   "source": [
    "for i in range(1,11):\n",
    "    print(i),print(\"xxx\")"
   ]
  }
 ],
 "metadata": {
  "kernelspec": {
   "display_name": "Python 3",
   "language": "python",
   "name": "python3"
  },
  "language_info": {
   "codemirror_mode": {
    "name": "ipython",
    "version": 3
   },
   "file_extension": ".py",
   "mimetype": "text/x-python",
   "name": "python",
   "nbconvert_exporter": "python",
   "pygments_lexer": "ipython3",
   "version": "3.6.5"
  }
 },
 "nbformat": 4,
 "nbformat_minor": 2
}
